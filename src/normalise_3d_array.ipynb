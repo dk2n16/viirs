{
 "cells": [
  {
   "cell_type": "code",
   "execution_count": 17,
   "metadata": {},
   "outputs": [
    {
     "data": {
      "text/plain": [
       "dtype('int32')"
      ]
     },
     "execution_count": 17,
     "metadata": {},
     "output_type": "execute_result"
    }
   ],
   "source": [
    "import numpy as np\n",
    "\n",
    "x = np.array([[1, 2, 3], [4, 5, 6]], np.int32)\n",
    "y = np.array([[7,8,9], [10,11,12]], np.int32)\n",
    "z = np.array([[13,14,15], [16,17,18]], np.int32)\n",
    "stack = np.stack((x,y,z))\n",
    "stack.max().dtype"
   ]
  },
  {
   "cell_type": "code",
   "execution_count": 18,
   "metadata": {
    "scrolled": true
   },
   "outputs": [
    {
     "data": {
      "text/plain": [
       "array([[[0.05555556, 0.11111111, 0.16666667],\n",
       "        [0.22222222, 0.27777778, 0.33333333]],\n",
       "\n",
       "       [[0.38888889, 0.44444444, 0.5       ],\n",
       "        [0.55555556, 0.61111111, 0.66666667]],\n",
       "\n",
       "       [[0.72222222, 0.77777778, 0.83333333],\n",
       "        [0.88888889, 0.94444444, 1.        ]]])"
      ]
     },
     "execution_count": 18,
     "metadata": {},
     "output_type": "execute_result"
    }
   ],
   "source": [
    "stack1 = stack*(1/stack.max())\n",
    "stack1"
   ]
  },
  {
   "cell_type": "code",
   "execution_count": 28,
   "metadata": {
    "collapsed": true
   },
   "outputs": [
    {
     "data": {
      "text/plain": [
       "array([[[0.        , 0.05882353, 0.11764706],\n",
       "        [0.17647059, 0.23529412, 0.29411765]],\n",
       "\n",
       "       [[0.35294118, 0.41176471, 0.47058824],\n",
       "        [0.52941176, 0.58823529, 0.64705882]],\n",
       "\n",
       "       [[0.70588235, 0.76470588, 0.82352941],\n",
       "        [0.88235294, 0.94117647, 1.        ]]])"
      ]
     },
     "execution_count": 28,
     "metadata": {},
     "output_type": "execute_result"
    }
   ],
   "source": [
    "#stack2 = (stack - stack.mean())/stack.std()\n",
    "stack2 = (stack - stack.min())/(stack.max() - stack.min())\n",
    "stack2"
   ]
  },
  {
   "cell_type": "code",
   "execution_count": 56,
   "metadata": {},
   "outputs": [],
   "source": [
    "import geopandas as gpd\n",
    "from pathlib import Path\n",
    "import rasterio\n",
    "import rasterstats\n",
    "import numpy as np\n",
    "from extract_rasters import ExtractFromTiles\n",
    "BASEDIR = Path('.').resolve().parent\n",
    "save_folder = Path('/home/david/Documents/programming/python/work/seasonality/viirs/datain/shps/HTI/HTI_Adm_units')\n",
    "shp = BASEDIR.joinpath('datain/shps/HTI/HTI_adm1.shp')\n",
    "gdf = gpd.read_file(str(shp))\n",
    "gdf = gdf[['ADM1', 'ADM1_id', 'geometry']]\n",
    "for row in gdf.iterrows():\n",
    "    adm_df = gpd.GeoDataFrame({'ADM1': [row[1][0]], 'ADM1_id': [row[1][1]], 'geometry': [row[1][2]]})\n",
    "    name = (save_folder.joinpath(\"{0}.shp\".format(row[1][\"ADM1\"])))\n",
    "    adm_df.to_file(name)"
   ]
  },
  {
   "cell_type": "code",
   "execution_count": 26,
   "metadata": {
    "collapsed": true
   },
   "outputs": [
    {
     "name": "stdout",
     "output_type": "stream",
     "text": [
      "Nord-Ouest\n",
      "Centre\n",
      "Nord\n",
      "Nord-Est\n",
      "Sud-Est\n",
      "Nippes\n",
      "Ouest\n",
      "Artibonite\n",
      "Sud\n"
     ]
    },
    {
     "ename": "ValueError",
     "evalue": "all input arrays must have the same shape",
     "output_type": "error",
     "traceback": [
      "\u001b[0;31m---------------------------------------------------------------------------\u001b[0m",
      "\u001b[0;31mValueError\u001b[0m                                Traceback (most recent call last)",
      "\u001b[0;32m<ipython-input-26-7b8eab7593f2>\u001b[0m in \u001b[0;36m<module>\u001b[0;34m\u001b[0m\n\u001b[1;32m     17\u001b[0m \u001b[0;31m#for unit, array in for_normalising.items():\u001b[0m\u001b[0;34m\u001b[0m\u001b[0;34m\u001b[0m\u001b[0;34m\u001b[0m\u001b[0m\n\u001b[1;32m     18\u001b[0m \u001b[0mresult\u001b[0m \u001b[0;34m=\u001b[0m \u001b[0;34m[\u001b[0m\u001b[0;34m(\u001b[0m\u001b[0mfor_normalising\u001b[0m\u001b[0;34m[\u001b[0m\u001b[0mx\u001b[0m\u001b[0;34m]\u001b[0m\u001b[0;34m)\u001b[0m \u001b[0;32mfor\u001b[0m \u001b[0mx\u001b[0m\u001b[0;34m,\u001b[0m \u001b[0m_\u001b[0m \u001b[0;32min\u001b[0m \u001b[0mfor_normalising\u001b[0m\u001b[0;34m.\u001b[0m\u001b[0mitems\u001b[0m\u001b[0;34m(\u001b[0m\u001b[0;34m)\u001b[0m\u001b[0;34m]\u001b[0m\u001b[0;34m\u001b[0m\u001b[0;34m\u001b[0m\u001b[0m\n\u001b[0;32m---> 19\u001b[0;31m \u001b[0mstacked_arrays\u001b[0m \u001b[0;34m=\u001b[0m \u001b[0mnp\u001b[0m\u001b[0;34m.\u001b[0m\u001b[0mstack\u001b[0m\u001b[0;34m(\u001b[0m\u001b[0mresult\u001b[0m\u001b[0;34m)\u001b[0m\u001b[0;34m\u001b[0m\u001b[0;34m\u001b[0m\u001b[0m\n\u001b[0m\u001b[1;32m     20\u001b[0m \u001b[0mprint\u001b[0m\u001b[0;34m(\u001b[0m\u001b[0mstacked_arrays\u001b[0m\u001b[0;34m.\u001b[0m\u001b[0mshape\u001b[0m\u001b[0;34m)\u001b[0m\u001b[0;34m\u001b[0m\u001b[0;34m\u001b[0m\u001b[0m\n",
      "\u001b[0;32m~/.local/share/virtualenvs/VIIRS-TubCh80V/lib/python3.6/site-packages/numpy/core/shape_base.py\u001b[0m in \u001b[0;36mstack\u001b[0;34m(arrays, axis, out)\u001b[0m\n\u001b[1;32m    414\u001b[0m     \u001b[0mshapes\u001b[0m \u001b[0;34m=\u001b[0m \u001b[0;34m{\u001b[0m\u001b[0marr\u001b[0m\u001b[0;34m.\u001b[0m\u001b[0mshape\u001b[0m \u001b[0;32mfor\u001b[0m \u001b[0marr\u001b[0m \u001b[0;32min\u001b[0m \u001b[0marrays\u001b[0m\u001b[0;34m}\u001b[0m\u001b[0;34m\u001b[0m\u001b[0;34m\u001b[0m\u001b[0m\n\u001b[1;32m    415\u001b[0m     \u001b[0;32mif\u001b[0m \u001b[0mlen\u001b[0m\u001b[0;34m(\u001b[0m\u001b[0mshapes\u001b[0m\u001b[0;34m)\u001b[0m \u001b[0;34m!=\u001b[0m \u001b[0;36m1\u001b[0m\u001b[0;34m:\u001b[0m\u001b[0;34m\u001b[0m\u001b[0;34m\u001b[0m\u001b[0m\n\u001b[0;32m--> 416\u001b[0;31m         \u001b[0;32mraise\u001b[0m \u001b[0mValueError\u001b[0m\u001b[0;34m(\u001b[0m\u001b[0;34m'all input arrays must have the same shape'\u001b[0m\u001b[0;34m)\u001b[0m\u001b[0;34m\u001b[0m\u001b[0;34m\u001b[0m\u001b[0m\n\u001b[0m\u001b[1;32m    417\u001b[0m \u001b[0;34m\u001b[0m\u001b[0m\n\u001b[1;32m    418\u001b[0m     \u001b[0mresult_ndim\u001b[0m \u001b[0;34m=\u001b[0m \u001b[0marrays\u001b[0m\u001b[0;34m[\u001b[0m\u001b[0;36m0\u001b[0m\u001b[0;34m]\u001b[0m\u001b[0;34m.\u001b[0m\u001b[0mndim\u001b[0m \u001b[0;34m+\u001b[0m \u001b[0;36m1\u001b[0m\u001b[0;34m\u001b[0m\u001b[0;34m\u001b[0m\u001b[0m\n",
      "\u001b[0;31mValueError\u001b[0m: all input arrays must have the same shape"
     ]
    }
   ],
   "source": [
    "import rasterio\n",
    "import numpy as np\n",
    "from pathlib import Path\n",
    "\n",
    "BASE = Path('.').resolve().parent\n",
    "RAST = BASE.joinpath('datain/HTI/01/subnational')\n",
    "admin_units = [x for x in RAST.iterdir() if x.name.endswith('rad.tif')]\n",
    "for_normalising = {}\n",
    "for unit in admin_units:\n",
    "    name = unit.name.split('_')[0]\n",
    "    print(name)\n",
    "    with rasterio.open(unit) as src:\n",
    "        data = src.read()\n",
    "        data[np.where(data == -99999)] = np.nan\n",
    "        for_normalising[name] = data\n",
    "\n",
    "#for unit, array in for_normalising.items():\n",
    "result = [(for_normalising[x]) for x, _ in for_normalising.items()]\n",
    "stacked_arrays = np.stack(result)\n",
    "print(stacked_arrays.shape)\n"
   ]
  },
  {
   "cell_type": "code",
   "execution_count": 81,
   "metadata": {
    "scrolled": true
   },
   "outputs": [
    {
     "name": "stdout",
     "output_type": "stream",
     "text": [
      "0.13641152\n",
      "0.3737434\n",
      "0.23510468\n",
      "0.40693405\n",
      "0.1750913\n",
      "0.0008008934\n",
      "0.21285883\n",
      "0.2602192\n",
      "0.19520664\n"
     ]
    }
   ],
   "source": [
    "\n",
    "MONTHS = BASE.joinpath('datain/HTI')\n",
    "names = [x.name.split('_')[0] for x in MONTHS.joinpath('01/subnational').iterdir() if x.name.endswith('rad.tif')]\n",
    "months = [x for x in MONTHS.iterdir()]\n",
    "\n",
    "months = sorted(months)\n",
    "check_array = None\n",
    "for name in names:\n",
    "    for_normalising = {}\n",
    "    for month in months:\n",
    "        raster = month.joinpath(f'subnational/{name}_rad.tif')\n",
    "        array_name = f'{str(name)}_{month.name}'\n",
    "        with rasterio.open(raster) as src:\n",
    "            data = src.read()\n",
    "            #data[np.where(data == -99999)] = np.nan\n",
    "            for_normalising[array_name] = data\n",
    "            if month.name == '01':\n",
    "                check_array = data\n",
    "        \n",
    "    result = [(for_normalising[x]) for x, _ in for_normalising.items()]\n",
    "    stacked_arrays = np.stack(result)\n",
    "    stack2 = np.ma.masked_array(stacked_arrays, stacked_arrays == -99999)\n",
    "    stack2 = (stacked_arrays - stacked_arrays.min())/(stacked_arrays.max() - stacked_arrays.min())\n",
    "    print(stack2.mean())\n",
    "    stack2[np.where(stacked_arrays == -99999)] = -99999\n",
    "    for month in months:\n",
    "        #print(f'{name} {stacked_arrays[int(month.name) -1]}')\n",
    "        data = stacked_arrays[int(month.name) -1]\n",
    "        #if month.name == '01':\n",
    "        #print(np.array_equal(data, check_array))\n",
    "    "
   ]
  },
  {
   "cell_type": "code",
   "execution_count": 82,
   "metadata": {},
   "outputs": [
    {
     "name": "stdout",
     "output_type": "stream",
     "text": [
      "/home/david/Documents/programming/python/work/seasonality/viirs/datain/HTI\n"
     ]
    }
   ],
   "source": [
    "BASEDIR = Path('.').resolve().parent.joinpath('datain/HTI')\n",
    "print(BASEDIR)"
   ]
  }
 ],
 "metadata": {
  "kernelspec": {
   "display_name": "Python 3",
   "language": "python",
   "name": "python3"
  },
  "language_info": {
   "codemirror_mode": {
    "name": "ipython",
    "version": 3
   },
   "file_extension": ".py",
   "mimetype": "text/x-python",
   "name": "python",
   "nbconvert_exporter": "python",
   "pygments_lexer": "ipython3",
   "version": "3.6.7"
  }
 },
 "nbformat": 4,
 "nbformat_minor": 2
}
