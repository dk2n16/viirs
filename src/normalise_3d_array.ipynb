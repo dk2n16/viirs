{
 "cells": [
  {
   "cell_type": "code",
   "execution_count": 17,
   "metadata": {},
   "outputs": [
    {
     "data": {
      "text/plain": [
       "dtype('int32')"
      ]
     },
     "execution_count": 17,
     "metadata": {},
     "output_type": "execute_result"
    }
   ],
   "source": [
    "import numpy as np\n",
    "\n",
    "x = np.array([[1, 2, 3], [4, 5, 6]], np.int32)\n",
    "y = np.array([[7,8,9], [10,11,12]], np.int32)\n",
    "z = np.array([[13,14,15], [16,17,18]], np.int32)\n",
    "stack = np.stack((x,y,z))\n",
    "stack.max().dtype"
   ]
  },
  {
   "cell_type": "code",
   "execution_count": 18,
   "metadata": {
    "scrolled": true
   },
   "outputs": [
    {
     "data": {
      "text/plain": [
       "array([[[0.05555556, 0.11111111, 0.16666667],\n",
       "        [0.22222222, 0.27777778, 0.33333333]],\n",
       "\n",
       "       [[0.38888889, 0.44444444, 0.5       ],\n",
       "        [0.55555556, 0.61111111, 0.66666667]],\n",
       "\n",
       "       [[0.72222222, 0.77777778, 0.83333333],\n",
       "        [0.88888889, 0.94444444, 1.        ]]])"
      ]
     },
     "execution_count": 18,
     "metadata": {},
     "output_type": "execute_result"
    }
   ],
   "source": [
    "stack1 = stack*(1/stack.max())\n",
    "stack1"
   ]
  },
  {
   "cell_type": "code",
   "execution_count": 28,
   "metadata": {
    "collapsed": true
   },
   "outputs": [
    {
     "data": {
      "text/plain": [
       "array([[[0.        , 0.05882353, 0.11764706],\n",
       "        [0.17647059, 0.23529412, 0.29411765]],\n",
       "\n",
       "       [[0.35294118, 0.41176471, 0.47058824],\n",
       "        [0.52941176, 0.58823529, 0.64705882]],\n",
       "\n",
       "       [[0.70588235, 0.76470588, 0.82352941],\n",
       "        [0.88235294, 0.94117647, 1.        ]]])"
      ]
     },
     "execution_count": 28,
     "metadata": {},
     "output_type": "execute_result"
    }
   ],
   "source": [
    "#stack2 = (stack - stack.mean())/stack.std()\n",
    "stack2 = (stack - stack.min())/(stack.max() - stack.min())\n",
    "stack2"
   ]
  },
  {
   "cell_type": "code",
   "execution_count": 56,
   "metadata": {},
   "outputs": [],
   "source": [
    "import geopandas as gpd\n",
    "from pathlib import Path\n",
    "import rasterio\n",
    "import rasterstats\n",
    "import numpy as np\n",
    "from extract_rasters import ExtractFromTiles\n",
    "BASEDIR = Path('.').resolve().parent\n",
    "save_folder = Path('/home/david/Documents/programming/python/work/seasonality/viirs/datain/shps/HTI/HTI_Adm_units')\n",
    "shp = BASEDIR.joinpath('datain/shps/HTI/HTI_adm1.shp')\n",
    "gdf = gpd.read_file(str(shp))\n",
    "gdf = gdf[['ADM1', 'ADM1_id', 'geometry']]\n",
    "for row in gdf.iterrows():\n",
    "    adm_df = gpd.GeoDataFrame({'ADM1': [row[1][0]], 'ADM1_id': [row[1][1]], 'geometry': [row[1][2]]})\n",
    "    name = (save_folder.joinpath(\"{0}.shp\".format(row[1][\"ADM1\"])))\n",
    "    adm_df.to_file(name)"
   ]
  }
 ],
 "metadata": {
  "kernelspec": {
   "display_name": "Python 3",
   "language": "python",
   "name": "python3"
  },
  "language_info": {
   "codemirror_mode": {
    "name": "ipython",
    "version": 3
   },
   "file_extension": ".py",
   "mimetype": "text/x-python",
   "name": "python",
   "nbconvert_exporter": "python",
   "pygments_lexer": "ipython3",
   "version": "3.6.7"
  }
 },
 "nbformat": 4,
 "nbformat_minor": 2
}
